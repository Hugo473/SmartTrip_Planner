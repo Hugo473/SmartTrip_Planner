{
  "nbformat": 4,
  "nbformat_minor": 0,
  "metadata": {
    "colab": {
      "provenance": [],
      "include_colab_link": true
    },
    "kernelspec": {
      "name": "python3",
      "display_name": "Python 3"
    },
    "language_info": {
      "name": "python"
    }
  },
  "cells": [
    {
      "cell_type": "markdown",
      "metadata": {
        "id": "view-in-github",
        "colab_type": "text"
      },
      "source": [
        "<a href=\"https://colab.research.google.com/github/Hugo473/SmartTrip_Planner/blob/main/SmartTrip_Planner.ipynb\" target=\"_parent\"><img src=\"https://colab.research.google.com/assets/colab-badge.svg\" alt=\"Open In Colab\"/></a>"
      ]
    },
    {
      "cell_type": "code",
      "source": [
        "%pip -q install google-genai"
      ],
      "metadata": {
        "id": "UCCbECexLk_h"
      },
      "execution_count": 1,
      "outputs": []
    },
    {
      "cell_type": "code",
      "source": [
        "# Configura a API Key do Google Gemini\n",
        "\n",
        "import os\n",
        "from google.colab import userdata\n",
        "\n",
        "os.environ[\"GOOGLE_API_KEY\"] = userdata.get('GOOGLE_API_KEY')"
      ],
      "metadata": {
        "id": "NfCqHo1tLk8P"
      },
      "execution_count": 2,
      "outputs": []
    },
    {
      "cell_type": "code",
      "source": [
        "# Configura o cliente da SDK do Gemini\n",
        "\n",
        "from google import genai\n",
        "\n",
        "client = genai.Client()\n",
        "\n",
        "MODEL_ID = \"gemini-2.0-flash\""
      ],
      "metadata": {
        "id": "bV4w0H5TLk5g"
      },
      "execution_count": 3,
      "outputs": []
    },
    {
      "cell_type": "code",
      "source": [
        "# Instalar Framework de agentes do Google ################################################\n",
        "!pip install -q google-adk"
      ],
      "metadata": {
        "id": "a1eRPalxEnj7",
        "colab": {
          "base_uri": "https://localhost:8080/"
        },
        "outputId": "48644822-0f6c-4d24-956d-ba7a39eb6f2a"
      },
      "execution_count": 4,
      "outputs": [
        {
          "output_type": "stream",
          "name": "stdout",
          "text": [
            "\u001b[?25l   \u001b[90m━━━━━━━━━━━━━━━━━━━━━━━━━━━━━━━━━━━━━━━━\u001b[0m \u001b[32m0.0/1.2 MB\u001b[0m \u001b[31m?\u001b[0m eta \u001b[36m-:--:--\u001b[0m\r\u001b[2K   \u001b[91m━━━━━━━━━━━━━━━━━━━━━━━━━━━━━━━━━━━━━━━\u001b[0m\u001b[91m╸\u001b[0m \u001b[32m1.2/1.2 MB\u001b[0m \u001b[31m41.1 MB/s\u001b[0m eta \u001b[36m0:00:01\u001b[0m\r\u001b[2K   \u001b[90m━━━━━━━━━━━━━━━━━━━━━━━━━━━━━━━━━━━━━━━━\u001b[0m \u001b[32m1.2/1.2 MB\u001b[0m \u001b[31m24.6 MB/s\u001b[0m eta \u001b[36m0:00:00\u001b[0m\n",
            "\u001b[?25h\u001b[?25l   \u001b[90m━━━━━━━━━━━━━━━━━━━━━━━━━━━━━━━━━━━━━━━━\u001b[0m \u001b[32m0.0/232.1 kB\u001b[0m \u001b[31m?\u001b[0m eta \u001b[36m-:--:--\u001b[0m\r\u001b[2K   \u001b[90m━━━━━━━━━━━━━━━━━━━━━━━━━━━━━━━━━━━━━━━━\u001b[0m \u001b[32m232.1/232.1 kB\u001b[0m \u001b[31m11.8 MB/s\u001b[0m eta \u001b[36m0:00:00\u001b[0m\n",
            "\u001b[2K   \u001b[90m━━━━━━━━━━━━━━━━━━━━━━━━━━━━━━━━━━━━━━━━\u001b[0m \u001b[32m95.2/95.2 kB\u001b[0m \u001b[31m7.2 MB/s\u001b[0m eta \u001b[36m0:00:00\u001b[0m\n",
            "\u001b[2K   \u001b[90m━━━━━━━━━━━━━━━━━━━━━━━━━━━━━━━━━━━━━━━━\u001b[0m \u001b[32m217.1/217.1 kB\u001b[0m \u001b[31m18.3 MB/s\u001b[0m eta \u001b[36m0:00:00\u001b[0m\n",
            "\u001b[2K   \u001b[90m━━━━━━━━━━━━━━━━━━━━━━━━━━━━━━━━━━━━━━━━\u001b[0m \u001b[32m334.1/334.1 kB\u001b[0m \u001b[31m9.9 MB/s\u001b[0m eta \u001b[36m0:00:00\u001b[0m\n",
            "\u001b[2K   \u001b[90m━━━━━━━━━━━━━━━━━━━━━━━━━━━━━━━━━━━━━━━━\u001b[0m \u001b[32m125.1/125.1 kB\u001b[0m \u001b[31m8.8 MB/s\u001b[0m eta \u001b[36m0:00:00\u001b[0m\n",
            "\u001b[2K   \u001b[90m━━━━━━━━━━━━━━━━━━━━━━━━━━━━━━━━━━━━━━━━\u001b[0m \u001b[32m65.8/65.8 kB\u001b[0m \u001b[31m4.3 MB/s\u001b[0m eta \u001b[36m0:00:00\u001b[0m\n",
            "\u001b[2K   \u001b[90m━━━━━━━━━━━━━━━━━━━━━━━━━━━━━━━━━━━━━━━━\u001b[0m \u001b[32m119.0/119.0 kB\u001b[0m \u001b[31m5.3 MB/s\u001b[0m eta \u001b[36m0:00:00\u001b[0m\n",
            "\u001b[2K   \u001b[90m━━━━━━━━━━━━━━━━━━━━━━━━━━━━━━━━━━━━━━━━\u001b[0m \u001b[32m194.9/194.9 kB\u001b[0m \u001b[31m7.1 MB/s\u001b[0m eta \u001b[36m0:00:00\u001b[0m\n",
            "\u001b[2K   \u001b[90m━━━━━━━━━━━━━━━━━━━━━━━━━━━━━━━━━━━━━━━━\u001b[0m \u001b[32m62.5/62.5 kB\u001b[0m \u001b[31m4.4 MB/s\u001b[0m eta \u001b[36m0:00:00\u001b[0m\n",
            "\u001b[2K   \u001b[90m━━━━━━━━━━━━━━━━━━━━━━━━━━━━━━━━━━━━━━━━\u001b[0m \u001b[32m103.3/103.3 kB\u001b[0m \u001b[31m7.8 MB/s\u001b[0m eta \u001b[36m0:00:00\u001b[0m\n",
            "\u001b[2K   \u001b[90m━━━━━━━━━━━━━━━━━━━━━━━━━━━━━━━━━━━━━━━━\u001b[0m \u001b[32m44.4/44.4 kB\u001b[0m \u001b[31m1.5 MB/s\u001b[0m eta \u001b[36m0:00:00\u001b[0m\n",
            "\u001b[2K   \u001b[90m━━━━━━━━━━━━━━━━━━━━━━━━━━━━━━━━━━━━━━━━\u001b[0m \u001b[32m72.0/72.0 kB\u001b[0m \u001b[31m5.7 MB/s\u001b[0m eta \u001b[36m0:00:00\u001b[0m\n",
            "\u001b[?25h"
          ]
        }
      ]
    },
    {
      "cell_type": "code",
      "execution_count": 5,
      "metadata": {
        "id": "aePV2bdfDeoW"
      },
      "outputs": [],
      "source": [
        "from google.adk.agents import Agent\n",
        "from google.adk.runners import Runner\n",
        "from google.adk.sessions import InMemorySessionService\n",
        "from google.adk.tools import google_search\n",
        "from google.genai import types  # Para criar conteúdos (Content e Part)\n",
        "from datetime import date\n",
        "import textwrap # Para formatar melhor a saída de texto\n",
        "from IPython.display import display, Markdown # Para exibir texto formatado no Colab\n",
        "import requests # Para fazer requisições HTTP\n",
        "import warnings\n",
        "\n",
        "warnings.filterwarnings(\"ignore\")"
      ]
    },
    {
      "cell_type": "code",
      "source": [
        "# Função auxiliar que envia uma mensagem para um agente via Runner e retorna a resposta final\n",
        "def call_agent(agent: Agent, message_text: str) -> str:\n",
        "    # Cria um serviço de sessão em memória\n",
        "    session_service = InMemorySessionService()\n",
        "    # Cria uma nova sessão (você pode personalizar os IDs conforme necessário)\n",
        "    session = session_service.create_session(app_name=agent.name, user_id=\"user1\", session_id=\"session1\")\n",
        "    # Cria um Runner para o agente\n",
        "    runner = Runner(agent=agent, app_name=agent.name, session_service=session_service)\n",
        "    # Cria o conteúdo da mensagem de entrada\n",
        "    content = types.Content(role=\"user\", parts=[types.Part(text=message_text)])\n",
        "\n",
        "    final_response = \"\"\n",
        "    # Itera assincronamente pelos eventos retornados durante a execução do agente\n",
        "    for event in runner.run(user_id=\"user1\", session_id=\"session1\", new_message=content):\n",
        "        if event.is_final_response():\n",
        "          for part in event.content.parts:\n",
        "            if part.text is not None:\n",
        "              final_response += part.text\n",
        "              final_response += \"\\n\"\n",
        "    return final_response"
      ],
      "metadata": {
        "id": "_xP4lWhsS5ko"
      },
      "execution_count": 6,
      "outputs": []
    },
    {
      "cell_type": "code",
      "source": [
        "# Função auxiliar para exibir texto formatado em Markdown no Colab\n",
        "def to_markdown(text):\n",
        "  text = text.replace('•', '  *')\n",
        "  return Markdown(textwrap.indent(text, '> ', predicate=lambda _: True))"
      ],
      "metadata": {
        "id": "8dosiodaxfFR"
      },
      "execution_count": 7,
      "outputs": []
    },
    {
      "cell_type": "code",
      "source": [
        "#############################################################\n",
        "# --- Agente 1: Buscador de Passeios e Pontos Turpísticos --- #\n",
        "#############################################################\n",
        "def agente_buscador(destino, data_inicio, data_fim):\n",
        "\n",
        "    buscador = Agent(\n",
        "        name=\"agente_buscador\",\n",
        "        model=\"gemini-2.0-flash\",\n",
        "        instruction=\"\"\"\n",
        "        Você é um assistente de turismo especializado em planejamento de viagens.\n",
        "        Sua tarefa é usar a ferramenta de busca do Google (google_search) para encontrar os principais pontos turísticos, passeios e atrações imperdíveis no destino especificado pelo usuário, assim como os preços médios, considerando o período exato da viagem informado.\n",
        "\n",
        "        1. Busque as **atrações mais populares, bem avaliadas ou que estejam em alta durante as datas da viagem**, incluindo eventos sazonais, festivais, tours guiados, feiras ou atividades culturais relevantes.\n",
        "        Dê preferência a atrações que estejam ativas no período informado e que tenham destaque em sites especializados em turismo, blogs de viagem, ou portais confiáveis.\n",
        "\n",
        "        2. Em relação às **hospedagens**, busque no máximo 3 opções com:\n",
        "          - Alta demanda ou avaliações positivas\n",
        "          - Localização estratégica (próxima a pontos turísticos ou transporte)\n",
        "          - Destaque recente em sites como Booking, TripAdvisor, Airbnb ou Google Reviews\n",
        "\n",
        "          Para cada hospedagem, informe:\n",
        "          - Nome\n",
        "          - Preço médio da diária no período informado\n",
        "          - Avaliação média (se disponível)\n",
        "          - Localização (bairro/zona)\n",
        "          - Breve descrição\n",
        "\n",
        "        3. **Aeroporto mais próximo**:\n",
        "          Se a cidade de destino **não tiver aeroporto**, informe:\n",
        "          - O nome do aeroporto mais próximo\n",
        "          - A cidade onde ele está localizado\n",
        "          - A distância aproximada até o destino final\n",
        "          - As formas comuns de transporte até o destino (ex: ônibus, carro, translado)\n",
        "\n",
        "        4. **Formato de resposta**:\n",
        "          - Liste até 5 atrações com nome, tipo, preço médio (se possível) e breve descrição\n",
        "          - Liste até 3 hospedagens com as informações descritas\n",
        "          - Adicione um campo final com a informação sobre o aeroporto (se necessário)\n",
        "\n",
        "        Se alguma atração estiver fechada ou indisponível no período informado, descarte-a e priorize alternativas ativas.\n",
        "        Sempre considere a **data da viagem e o local informado pelo usuário** como contexto principal para a pesquisa.\n",
        "\n",
        "        \"\"\",\n",
        "        description=\"Agente que busca informações no Google\",\n",
        "        tools=[google_search]\n",
        "    )\n",
        "\n",
        "    entrada_do_agente_buscador = f\"Tópico: {destino}\\nData de hoje: {data_inicio, data_fim}\"\n",
        "\n",
        "    lancamentos = call_agent(buscador, entrada_do_agente_buscador)\n",
        "    return lancamentos"
      ],
      "metadata": {
        "id": "o8bqIfi_DyH8"
      },
      "execution_count": 8,
      "outputs": []
    },
    {
      "cell_type": "code",
      "source": [
        "def agente_planejador(destino, data_inicio, data_fim, lancamentos_buscados):\n",
        "    planejador = Agent(\n",
        "        name=\"agente_planejador\",\n",
        "        model=\"gemini-2.0-flash\",\n",
        "        # Inserir as instruções do Agente Planejador #################################################\n",
        "        instruction=\"\"\"\n",
        "        Você é um especialista em roteiros de viagem. Crie um roteiro diário personalizado com base nas atrações fornecidas e nas datas da viagem.\n",
        "        Sempre que possível, **priorize atrações próximas à hospedagem nos primeiros ou últimos passeios do dia**, para otimizar deslocamentos e conforto.\n",
        "        Sua resposta deve seguir as diretrizes abaixo:\n",
        "\n",
        "        1. **Considere o período da viagem** (data de início e fim) para dividir as atrações pelos dias disponíveis agrupando passeios por localização geográfica.\n",
        "        2. **Agrupe atrações próximas geograficamente** no mesmo dia para facilitar a logística do viajante.\n",
        "        3. **Equilibre o roteiro**, misturando diferentes tipos de passeios (culturais, naturais, gastronômicos, compras, etc.) para evitar dias cansativos ou monótonos.\n",
        "        4. Sempre que possível, comece o dia com passeios ao ar livre ou com horários fixos e deixe atividades mais livres ou gastronômicas para o fim do dia.\n",
        "        5. Se houver eventos com horário específico, organize o restante do dia ao redor deles.\n",
        "\n",
        "        Retorne o resultado no formato estruturado, como:\n",
        "\n",
        "        **Dia 1 (DATA):**\n",
        "        - Manhã: Passeio 1 (nome, tipo, descrição breve, preços)\n",
        "        - Tarde: Passeio 2\n",
        "        - Noite: Passeio 3\n",
        "\n",
        "        ...\n",
        "\n",
        "        Use criatividade e conhecimento turístico para tornar a viagem inesquecível.\n",
        "\n",
        "        \"\"\",\n",
        "        description=\"Agente que planeja passeios\",\n",
        "        tools=[google_search]\n",
        "    )\n",
        "\n",
        "    entrada_do_agente_planejador = f\"Tópico:{destino}\\nData de incio: {data_inicio}\\nData final: {data_fim}\\nLançamentos buscados: {lancamentos_buscados}\"\n",
        "    # Executa o agente\n",
        "    plano_do_post = call_agent(planejador, entrada_do_agente_planejador)\n",
        "    return plano_do_post\n",
        "\n"
      ],
      "metadata": {
        "id": "y3VO1uo5_ghO"
      },
      "execution_count": 9,
      "outputs": []
    },
    {
      "cell_type": "code",
      "source": [
        "######################################\n",
        "# --- Agente 3: Redator de Viagem --- #\n",
        "######################################\n",
        "def agente_redator(destino, data_inicio, data_fim, plano_de_post):\n",
        "    redator = Agent(\n",
        "        name=\"agente_redator\",\n",
        "        model=\"gemini-2.0-flash\",\n",
        "        instruction=\"\"\"\n",
        "        Você é um redator de turismo que escreve textos envolventes, informativos e personalizados para viajantes.\n",
        "        Sua tarefa é transformar o plano de viagem e as informações buscadas em um **texto narrativo atrativo**, que oriente e anime o cliente para sua viagem.\n",
        "\n",
        "        Utilize os seguintes dados:\n",
        "        - Destino da viagem\n",
        "        - Datas de ida e volta\n",
        "        - Hospedagem recomendada (nome e localização)\n",
        "        - Lista de atrações e passeios organizados por dia (roteiro diário)\n",
        "        = Lista de custos por passeio, refeição, transporte. E o total de quanto provalmente pode ser custo dessa viagem. (caso disponível)\n",
        "\n",
        "        Instruções de estilo e conteúdo:\n",
        "        1. Comece com uma introdução calorosa e personalizada, apresentando o destino e o período da viagem.\n",
        "        2. Descreva brevemente a hospedagem, destacando localização e benefícios.\n",
        "        3. Apresente o roteiro de forma **narrativa e fluida**, como um convite à jornada. Use parágrafos por dia, mencionando o que será feito pela manhã, tarde e noite.\n",
        "        4. Use linguagem inspiradora e descritiva, com um tom leve, positivo e informativo.\n",
        "        5. Ao final, inclua uma frase de encerramento incentivando a aproveitar ao máximo a experiência.\n",
        "\n",
        "        Exemplo de tom desejado:\n",
        "        > Prepare-se para viver dias inesquecíveis no Rio de Janeiro! De 20 a 24 de julho, seu roteiro está repleto de paisagens icônicas, cultura vibrante e momentos de puro relaxamento à beira-mar...\n",
        "\n",
        "        Saída esperada: um texto completo e fluido, com cerca de 300 a 500 palavras, que possa ser enviado por e-mail ou PDF ao cliente como “Plano da Sua Viagem”.\n",
        "\n",
        "            \"\"\",\n",
        "        description=\"Agente redator de viagem\"\n",
        "    )\n",
        "    entrada_do_agente_redator = f\"Tópico: {destino}\\nData de incio: {data_inicio}\\nData final: {data_fim}\\nPlano de post: {plano_de_post}\"\n",
        "    # Executa o agente\n",
        "    rascunho = call_agent(redator, entrada_do_agente_redator)\n",
        "    return rascunho"
      ],
      "metadata": {
        "id": "uOqlg2TRLVh1"
      },
      "execution_count": 10,
      "outputs": []
    },
    {
      "cell_type": "code",
      "source": [
        "\n",
        "print(\"🚀 Iniciando o SmartTrip Planner (o seu planejamento de viagens) com 3 Agentes Inteligentes 🚀\")\n",
        "\n",
        "# --- Obter o Tópico do Usuário ---\n",
        "destino = input(\"🌎 Para qual DESTINO será a viagem?  \")\n",
        "data_inicio = input(\"📆 Qual a DATA DE INÍCIO da viagem (dd/mm/aaaa)? \")\n",
        "data_fim = input(\"📆 Qual a DATA DE TÉRMINO da viagem (dd/mm/aaaa)? \")\n",
        "\n",
        "# Inserir lógica do sistema de agentes ################################################\n",
        "if not destino or not data_inicio or not data_fim:\n",
        "    print(\"Você esqueceu de digitar o tópico!\")\n",
        "else:\n",
        "    print(f\"Maravilha! Vamos então criar o seu roteiro para {destino} entre os dias {data_inicio} e {data_fim}\")\n",
        "\n",
        "    lancamentos_buscados = agente_buscador(destino, data_inicio, data_fim)\n",
        "    print(\"\\n--- 📝 Resultado do Agente 1 (Hospedagens e Atrações) ---\\n\")\n",
        "    display(to_markdown(lancamentos_buscados))\n",
        "    print(\"--------------------------------------------------------------\")\n",
        "\n",
        "    plano_de_post = agente_planejador(destino, data_inicio, data_fim, lancamentos_buscados)\n",
        "    print(\"\\n--- 📝 Resultado do Agente 2 (Planejador do seu Roteiro) ---\\n\")\n",
        "    display(to_markdown(plano_de_post))\n",
        "    print(\"--------------------------------------------------------------\")\n",
        "\n",
        "    rascunho_de_post = agente_redator(destino, data_inicio, data_fim, plano_de_post)\n",
        "    print(f\"\\n--- 📝 Aqui está o seu roteiro planejado para {destino} entre os dias {data_inicio} e {data_fim} ---\\n\")\n",
        "    display(to_markdown(rascunho_de_post))\n",
        "    print(\"--------------------------------------------------------------\")\n",
        "\n"
      ],
      "metadata": {
        "colab": {
          "base_uri": "https://localhost:8080/"
        },
        "id": "UL37bo0OFWIC",
        "outputId": "b11cf9ba-29cd-40ec-a96f-cace1b72bf20"
      },
      "execution_count": null,
      "outputs": [
        {
          "output_type": "stream",
          "name": "stdout",
          "text": [
            "🚀 Iniciando o SmartTrip Planner (o seu planejamento de viagens) com 3 Agentes Inteligentes 🚀\n"
          ]
        }
      ]
    }
  ]
}